{
 "cells": [
  {
   "cell_type": "markdown",
   "metadata": {},
   "source": [
    "<a href=\"http://landlab.github.io\"><img style=\"float: left; height: 175px; width: 175px\" src=\"../landlab_logo_picture.jpg\"></a> <h3 style=\"margin: 117px 0 0 185px; font-weight: 300;\">a toolkit for modeling earth surface processes</h3>"
   ]
  },
  {
   "cell_type": "markdown",
   "metadata": {},
   "source": [
    "# How to write a Landlab component"
   ]
  },
  {
   "cell_type": "markdown",
   "metadata": {},
   "source": [
    "<hr>\n",
    "<small> For instructions on how to run an interactive iPython notebook, click here: <a href=\"https://github.com/landlab/tutorials/blob/master/README.md\">https://github.com/landlab/tutorials/blob/master/README.md</a></small><br>\n",
    "<small>For the unexpanded version to download and run, click here: <a href=\"http://nbviewer.jupyter.org/github/landlab/tutorials/blob/master/making_components/making_components_unexpanded.ipynb\">http://nbviewer.jupyter.org/github/landlab/tutorials/blob/master/making_components/making_components_unexpanded.ipynb</a></small><br>\n",
    "<small>For more Landlab tutorials, click here: <a href=\"https://github.com/landlab/landlab/wiki/Tutorials\">https://github.com/landlab/landlab/wiki/Tutorials</a></small>\n",
    "<hr>"
   ]
  },
  {
   "cell_type": "markdown",
   "metadata": {},
   "source": [
    "This ipython notebook walks you through the basic procedure for writing a Landlab component, using the example of a kinematic-wave flow model.\n",
    "\n",
    "## Overview\n",
    "A Landlab component is implemented as a Python `class`. Although every Landlab component is unique in some respects, to be a component, a class must have at least the following standard ingredients:\n",
    "\n",
    "(1) The class must inherit the base class `Component`.\n",
    "\n",
    "(2) The class must include a set of standard variables defined in the header (i.e., before the `__init__` method), which describe the data arrays that the component uses.\n",
    "\n",
    "(3) The class must have an `__init__` method defined, with a semi-standardized parameter list described below.\n",
    "\n",
    "(4) The class must provide a function that does performs the component's \"action\", typically named `run_one_step()` and this function's parameter list must follow the convention described below.\n",
    "\n",
    "\n",
    "## Class definition and header\n",
    "\n",
    "A Landlab component is a class that inherits from `Component`. The name of the class should be in CamelCase, and should make sense when used in the sentence: \"A *(component-name)* is a...\". The class definition should be followed by a docstring. The docstring should include a list of parameters for the `__init__` method and succintly describe them."
   ]
  },
  {
   "cell_type": "code",
   "execution_count": 1,
   "metadata": {
    "collapsed": true
   },
   "outputs": [],
   "source": [
    "from landlab import Component, FieldError\n",
    "import numpy as np\n",
    "\n",
    "class KinwaveOverlandFlowModel(Component):\n",
    "    \"\"\"\n",
    "    Calculate water flow over topography.\n",
    "    \n",
    "    Landlab component that implements a two-dimensional \n",
    "    kinematic wave model.\n",
    "    \n",
    "    Construction:\n",
    "    \n",
    "        KinwaveOverlandFlowModel(grid, precip_rate=1.0,\n",
    "                                 precip_duration=1.0,\n",
    "                                 infilt_rate=0.0,\n",
    "                                 roughness=0.01, **kwds)\n",
    "    \n",
    "    Parameters\n",
    "    ----------\n",
    "    grid : ModelGrid\n",
    "        A Landlab grid object.\n",
    "    precip_rate : float, optional (defaults to 1 mm/hr)\n",
    "        Precipitation rate, mm/hr\n",
    "    precip_duration : float, optional (defaults to 1 hour)\n",
    "        Duration of precipitation, hours\n",
    "    infilt_rate : float, optional (defaults to 0)\n",
    "        Maximum rate of infiltration, mm/hr\n",
    "    roughnes : float, defaults to 0.01\n",
    "        Manning roughness coefficient, s/m^1/3\n",
    "\n",
    "    \"\"\"\n",
    "    \n",
    "    pass  # just for now, until we add stuff..."
   ]
  },
  {
   "cell_type": "markdown",
   "metadata": {},
   "source": [
    "## Doc tests"
   ]
  },
  {
   "cell_type": "markdown",
   "metadata": {},
   "source": [
    "The following section 'Examples' should help the user understand what is the component's purpose and how it works. It is an example (or examples) of its use in a (more or less) simple case within the Landlab framework: a grid is created, the component is instantiated on this grid and run. Unlike in the example below, we strongly recommend commenting your example(s) to explain what is happening.\n",
    "This is also the section that will be run during the integration tests of your component (once you submitted a pull request to have your component merged into the Landlab master branch). All lines starting with >>> are run and should produce the results you provided: here, the test fail if `kw.vel_coeff` does not return `100.0.`"
   ]
  },
  {
   "cell_type": "code",
   "execution_count": null,
   "metadata": {
    "collapsed": true
   },
   "outputs": [],
   "source": [
    "    \"\"\"\n",
    "    Examples\n",
    "    --------\n",
    "    >>> from landlab import RasterModelGrid\n",
    "    >>> rg = RasterModelGrid((4, 5), 10.0)\n",
    "    >>> kw = KinwaveOverlandFlowModel(rg)\n",
    "    >>> kw.vel_coef\n",
    "    100.0\n",
    "    >>> rg.at_node['surface_water__depth']\n",
    "    array([ 0.,  0.,  0.,  0.,  0.,\n",
    "            0.,  0.,  0.,  0.,  0.,\n",
    "            0.,  0.,  0.,  0.,  0.,\n",
    "            0.,  0.,  0.,  0.,  0.])\n",
    "     \"\"\"\n",
    "     pass  # just for now, until we add stuff..."
   ]
  },
  {
   "cell_type": "markdown",
   "metadata": {},
   "source": [
    "### Header information: `_name`\n",
    "Every component should have a name, as a string. Normally this will be the same as the class name."
   ]
  },
  {
   "cell_type": "code",
   "execution_count": 2,
   "metadata": {
    "collapsed": true
   },
   "outputs": [],
   "source": [
    "_name = 'KinwaveOverlandFlowModel'"
   ]
  },
  {
   "cell_type": "markdown",
   "metadata": {},
   "source": [
    "### Header information: `_input_var_names`\n",
    "\"Input variables\" here refers to those arrays (fields) that the component needs, and for which initial values must be specified. In our kinematic wave example, we need topography. We'll take elevation, and calculate slope. Therefore, elevation will be an input variable, and slope an output (though we won't modify it). A more advanced model might also need spatially variable precipitation, infiltration capacity, and/or roughness, but here we'll treat these as uniform.\n",
    "\n",
    "The `_input_var_names` should be a tuple of strings. These strings give the formal names for the fields, and should use standard Landlab semantics. In brief, Landlab's naming scheme follows the pattern of the CSDMS standard names, with the quantity at the end of the string, and any descriptors beforehand, separated from the quantity by two underscores."
   ]
  },
  {
   "cell_type": "code",
   "execution_count": 3,
   "metadata": {
    "collapsed": true
   },
   "outputs": [],
   "source": [
    "_input_var_names = (\n",
    "    'topographic__elevation',\n",
    ")"
   ]
  },
  {
   "cell_type": "markdown",
   "metadata": {},
   "source": [
    "### Header information: `_output_var_names`\n",
    "*Output variables* are those arrays (fields) that the component solves for as part of its normal operation. In our kinematic wave example, the component will create fields for topographic gradient, water depth, velocity, and discharge per unit width (a.k.a., specific discharge).\n",
    "\n",
    "Like `_input_var_names`, `_output_var_names` should be either a tuple of strings with names based on <a href=\"https://github.com/landlab/landlab/wiki/Components#landlab-standard-naming-conventions\">standard Landlab semantics</a> ."
   ]
  },
  {
   "cell_type": "code",
   "execution_count": 4,
   "metadata": {
    "collapsed": true
   },
   "outputs": [],
   "source": [
    "_output_var_names = (\n",
    "    'topographic__gradient', \n",
    "    'surface_water__depth',\n",
    "    'water__velocity',\n",
    "    'water__specific_discharge',\n",
    ")"
   ]
  },
  {
   "cell_type": "markdown",
   "metadata": {},
   "source": [
    "### Header information: `_var_units`\n",
    "This is a dictionary that defines the units of each variable (both input and output)."
   ]
  },
  {
   "cell_type": "code",
   "execution_count": 5,
   "metadata": {
    "collapsed": true
   },
   "outputs": [],
   "source": [
    "_var_units = {\n",
    "    'topographic__elevation': 'm',\n",
    "    'topographic__gradient': 'm/m',\n",
    "    'surface_water__depth': 'm',\n",
    "    'water__velocity': 'm/s',\n",
    "    'water__specific_discharge': 'm2/s',\n",
    "}"
   ]
  },
  {
   "cell_type": "markdown",
   "metadata": {},
   "source": [
    "### Header information: `_var_mapping`\n",
    "This is a dictionary that describes the grid element to which each field is mapped. In our example, elevation and water depth (both scalars) are mapped to nodes, whereas velocity and discharge (both vectors) are mapped to links."
   ]
  },
  {
   "cell_type": "code",
   "execution_count": 6,
   "metadata": {
    "collapsed": true
   },
   "outputs": [],
   "source": [
    "_var_mapping = {\n",
    "    'topographic__elevation': 'node',\n",
    "    'topographic__gradient': 'link',\n",
    "    'surface_water__depth': 'node',\n",
    "    'water__velocity': 'link',\n",
    "    'water__specific_discharge': 'link',\n",
    "}"
   ]
  },
  {
   "cell_type": "markdown",
   "metadata": {},
   "source": [
    "### Header information: `_var_doc`\n",
    "This final piece of header data provides information about what each variable represents, encoded as a dictionary in which the keys are the field names and values are the descriptions, as strings."
   ]
  },
  {
   "cell_type": "code",
   "execution_count": 7,
   "metadata": {
    "collapsed": true
   },
   "outputs": [],
   "source": [
    "_var_doc = {\n",
    "    'topographic__elevation':\n",
    "        'elevation of the ground surface relative to some datum',\n",
    "    'topographic__gradient':\n",
    "        'gradient of the ground surface',\n",
    "    'surface_water__depth':\n",
    "        'depth of water',\n",
    "    'water__velocity':\n",
    "        'flow velocity component in the direction of the link',\n",
    "    'water__specific_discharge':\n",
    "        'flow discharge component in the direction of the link',    \n",
    "}"
   ]
  },
  {
   "cell_type": "markdown",
   "metadata": {},
   "source": [
    "### Class with complete header information"
   ]
  },
  {
   "cell_type": "code",
   "execution_count": 8,
   "metadata": {
    "collapsed": true
   },
   "outputs": [],
   "source": [
    "from landlab import Component, FieldError\n",
    "import numpy as np\n",
    "\n",
    "class KinwaveOverlandFlowModel(Component):\n",
    "    \"\"\"\n",
    "    Calculate water flow over topography.\n",
    "    \n",
    "    Landlab component that implements a two-dimensional \n",
    "    kinematic wave model.\n",
    "    \n",
    "    Construction:\n",
    "    \n",
    "        KinwaveOverlandFlowModel(grid, [stuff to be added later])\n",
    "    \n",
    "    Parameters\n",
    "    ----------\n",
    "    grid : ModelGrid\n",
    "        A Landlab grid object.\n",
    "    [others to be added later]\n",
    "    \"\"\"\n",
    "\n",
    "    _name = 'KinwaveOverlandFlowModel'\n",
    "\n",
    "    _input_var_names = (\n",
    "        'topographic__elevation',\n",
    "    )\n",
    "\n",
    "    _output_var_names = (\n",
    "        'topographic__gradient',\n",
    "        'surface_water__depth',\n",
    "        'water__velocity',\n",
    "        'water__specific_discharge',\n",
    "    )\n",
    "\n",
    "    _var_units = {\n",
    "        'topographic__elevation': 'm',\n",
    "        'topographic__gradient': 'm/m',\n",
    "        'surface_water__depth': 'm',\n",
    "        'water__velocity': 'm/s',\n",
    "        'water__specific_discharge': 'm2/s',\n",
    "    }\n",
    "    \n",
    "    _var_mapping = {\n",
    "        'topographic__elevation': 'node',\n",
    "        'topographic__gradient': 'link',\n",
    "        'surface_water__depth': 'node',\n",
    "        'water__velocity': 'link',\n",
    "        'water__specific_discharge': 'link',\n",
    "    }\n",
    "\n",
    "    _var_doc = {\n",
    "        'topographic__elevation':\n",
    "            'elevation of the ground surface relative to some datum',\n",
    "        'topographic__gradient':\n",
    "            'gradient of the ground surface',\n",
    "        'surface_water__depth':\n",
    "            'depth of water',\n",
    "        'water__velocity':\n",
    "            'flow velocity component in the direction of the link',\n",
    "        'water__specific_discharge':\n",
    "            'flow discharge component in the direction of the link',    \n",
    "    }"
   ]
  },
  {
   "cell_type": "markdown",
   "metadata": {},
   "source": [
    "## The initialization method (`__init__`)\n",
    "Every Landlab component should have an `__init__` method. The parameter signature should start with a `ModelGrid` object as the first parameter, and list `**kwds` as the last parameter. In between are component-specific parameters. In our example, the parameters for the kinematic wave model include: precipiation rate, precipitation duration, infiltration rate, and roughness coefficient (Manning's n). (The final `**kwds` is what allows you to pass in a dictionary of input parameters, so make sure it's there).\n",
    "\n",
    "Two things a component `__init__` method common does are (1) store the component's parameters as class attributes, and (2) create the necessary fields. When creating grid fields, it is important to first check to see whether a field with the same name (and mapping) already exists. For example, a driver or another component might have already created `topographic__elevation` when our kinematic wave component is initialized.\n",
    "\n",
    "There are a couple of different approaches to creating and working with fields. In the example below, we use the straightforward approach of creating them one at a time by name. We keep a reference to each field as a variable; for example, `self.elev` refers to the grid field `topographic_elevation`. It is also possible to automate the process by looping over all names in, say, `_var_mapping`, checking each to see whether it exists, and creating it if not. The `Component` method `initialize_output_fields()` may help with this, which will already be a member of your component because it inherits from `Component`."
   ]
  },
  {
   "cell_type": "code",
   "execution_count": 9,
   "metadata": {
    "collapsed": true
   },
   "outputs": [],
   "source": [
    "def __init__(self, grid, precip_rate=1.0, precip_duration=1.0, \n",
    "             infilt_rate=0.0, roughness=0.01, **kwds):\n",
    "    \"\"\"Initialize the KinwaveOverlandFlowModel.\n",
    "    \n",
    "    Parameters\n",
    "    ----------\n",
    "    grid : ModelGrid\n",
    "        Landlab ModelGrid object\n",
    "    precip_rate : float, optional (defaults to 1 mm/hr)\n",
    "        Precipitation rate, mm/hr\n",
    "    precip_duration : float, optional (defaults to 1 hour)\n",
    "        Duration of precipitation, hours\n",
    "    infilt_rate : float, optional (defaults to 0)\n",
    "        Maximum rate of infiltration, mm/hr\n",
    "    roughness : float, defaults to 0.01\n",
    "        Manning roughness coefficient, s/m^1/3\n",
    "    \"\"\"\n",
    "\n",
    "    # Store grid and parameters and do unit conversion\n",
    "    self._grid = grid\n",
    "    self.precip = precip_rate / 3600000.0 # convert to m/s\n",
    "    self.precip_duration = precip_duration * 3600.0  # convert to s\n",
    "    self.infilt = infilt_rate / 3600000.0 # convert to m/s\n",
    "    self.vel_coef = 1.0 / roughness  # do division now to save time\n",
    "\n",
    "    # Create fields...\n",
    "    #   Elevation\n",
    "    if 'topographic__elevation' in grid.at_node:\n",
    "        self.elev = grid.at_node['topographic__elevation']\n",
    "    else:\n",
    "        raise FieldError(\n",
    "            'A topography is required as a component input!')\n",
    "    #   Slope\n",
    "    if 'topographic__gradient' in grid.at_link:\n",
    "        self.slope = grid.at_link['topographic__gradient']\n",
    "    else:\n",
    "        self.slope = grid.add_zeros('link', 'topographic__gradient')\n",
    "        # this field is \"nice to have\", but we build it if necessary\n",
    "    #  Water depth\n",
    "    if 'surface_water__depth' in grid.at_node:\n",
    "        self.depth = grid.at_node['surface_water__depth']\n",
    "    else:\n",
    "        self.depth = grid.add_zeros('node', 'surface_water__depth')\n",
    "    #  Velocity\n",
    "    if 'water__velocity' in grid.at_link:\n",
    "        self.vel = grid.at_link['water__velocity']\n",
    "    else:\n",
    "        self.vel = grid.add_zeros('link', 'water__velocity')\n",
    "    #  Discharge\n",
    "    if 'water__specific_discharge' in grid.at_link:\n",
    "        self.disch = grid.at_link['water__specific_discharge']\n",
    "    else:\n",
    "        self.disch = grid.add_zeros('link',\n",
    "                                    'water__specific_discharge')\n",
    "\n",
    "    # Calculate the ground-surface slope (assume it won't change)\n",
    "    self.slope[self._grid.active_links] = \\\n",
    "        self._grid.calc_grad_at_link(self.elev)[self._grid.active_links]\n",
    "    self.sqrt_slope = np.sqrt( self.slope )"
   ]
  },
  {
   "cell_type": "markdown",
   "metadata": {},
   "source": [
    "## The \"go\" method, `run_one_step()`\n",
    "Every Landlab component will have a method that implements the component's action. The go method can have any name you like, but the preferred practice is to use the standard name `run_one_step()`. Landlab assumes that if a component has a method with this name, it will a. be the primary \"go\" method, and b. will be fully standardized as described here.\n",
    "\n",
    "The first argument in the function signature should always be a duration to run, `dt`; i.e., a timestep length. If the component does not evolve as time passes, this argument may be missing (see, e.g., the FlowRouter, which returns a steady state flow pattern independent of time).\n",
    "\n",
    "The remainder of the parameters are specific to the component. In this case, the component-specific parameter is the current simulation time, which determines whether it's still raining.\n",
    "\n",
    "The first step in the algorithm is to calculate water depth *at the links*, where we will be calculating the water discharge. In this particular case, we'll use the depth at the upslope of the two nodes. The grid method to do this, `map_value_at_max_node_to_link`, is one of many mapping functions available.\n",
    "\n",
    "We then calculate velocity using the Manning equation, and specific discharge by multiplying velocity by depth.\n",
    "\n",
    "Mass balance for the cells around nodes is computed using the `calc_flux_div_at_node` grid method."
   ]
  },
  {
   "cell_type": "code",
   "execution_count": 10,
   "metadata": {
    "collapsed": true
   },
   "outputs": [],
   "source": [
    "    def run_one_step(self, dt, current_time=0.0, **kwds):\n",
    "        \"\"\"Calculate water flow for a time period `dt`.\n",
    "        \"\"\"\n",
    "        # Calculate water depth at links.\n",
    "        H_link = self.grid.map_value_at_max_node_to_link(\n",
    "                'topographic__elevation', 'surface_water__depth')\n",
    "\n",
    "        # Calculate velocity\n",
    "        self.vel = self.vel_coef * H_link**0.66667 * self.sqrt_slope\n",
    "\n",
    "        # Calculate discharge\n",
    "        self.disch = H_link * self.vel\n",
    "\n",
    "        # Flux divergence\n",
    "        dqda = self.grid.calc_flux_div_at_node(self.disch)\n",
    "\n",
    "        # Rate of change of water depth\n",
    "        if current_time < self.precip_duration:\n",
    "            ppt = self.precip\n",
    "        else:\n",
    "            ppt = 0.0\n",
    "        dHdt = ppt - self.infilt - dqda\n",
    "\n",
    "        # Update water depth\n",
    "        self.depth[self.grid.core_nodes] += dHdt[self.grid.core_nodes] * dt\n",
    "\n",
    "        # Somewhat crude numerical hack: prevent negative water depth\n",
    "        self.depth[np.where(self.depth < 0.0)[0]] = 0.0"
   ]
  },
  {
   "cell_type": "markdown",
   "metadata": {},
   "source": [
    "## Changes to boundary conditions"
   ]
  },
  {
   "cell_type": "markdown",
   "metadata": {},
   "source": [
    "Sometimes, as in this example, it proves convenient to hard-code assumptions about boundary conditions into the `__init__` method. In this case, note that the final two lines of `__init__` invoke `grid.active_links` - so if the boundary conditions are updated after we initialize, it's possible `self.depth` will not be correct.\n",
    "\n",
    "We can resolve this issue by creating an additional component method that updates these components that can be called if the boundary conditions change. Whether the boundary conditions have changed can be assessed with a grid method called `bc_set_code`. This is an `int` which will change if the boundary conditions change."
   ]
  },
  {
   "cell_type": "code",
   "execution_count": 11,
   "metadata": {
    "collapsed": true
   },
   "outputs": [],
   "source": [
    "    def __init__(self, grid, precip_rate=1.0, precip_duration=1.0, \n",
    "             infilt_rate=0.0, roughness=0.01, **kwds):\n",
    "        \"\"\"Initialize the KinwaveOverlandFlowModel.\n",
    "        ...\n",
    "        \"\"\"\n",
    "        # Store grid and parameters and do unit conversion\n",
    "        self._grid = grid\n",
    "        self._bc_set_code = self.grid.bc_set_code\n",
    "        # ...\n",
    "\n",
    "    def updated_boundary_conditions(self):\n",
    "        \"\"\"Call if boundary conditions are updated.\n",
    "        \"\"\"\n",
    "        # Calculate the ground-surface slope (assume it won't change)\n",
    "        self.slope[self.grid.active_links] = \\\n",
    "            self.grid.calc_grad_at_link(self.elev)[self.grid.active_links]\n",
    "        self.sqrt_slope = np.sqrt(self.slope)\n",
    "\n",
    "\n",
    "    def run_one_step(self, dt, current_time=0.0, **kwds):\n",
    "        \"\"\"Calculate water flow for a time period `dt`.\n",
    "        \"\"\"\n",
    "        if self._bc_set_code != self.grid.bc_set_code:\n",
    "            self.updated_boundary_conditions()\n",
    "            self._bc_set_code = self.grid.bc_set_code\n",
    "        # Calculate water depth at links.\n",
    "        # ..."
   ]
  },
  {
   "cell_type": "markdown",
   "metadata": {},
   "source": [
    "## The complete component"
   ]
  },
  {
   "cell_type": "code",
   "execution_count": 12,
   "metadata": {
    "collapsed": true
   },
   "outputs": [],
   "source": [
    "from landlab import Component, FieldError\n",
    "import numpy as np\n",
    "\n",
    "class KinwaveOverlandFlowModel(Component):\n",
    "    \"\"\"\n",
    "    Calculate water flow over topography.\n",
    "    \n",
    "    Landlab component that implements a two-dimensional \n",
    "    kinematic wave model.\n",
    "    \n",
    "    Construction:\n",
    "    \n",
    "        KinwaveOverlandFlowModel(grid, precip_rate=1.0, \n",
    "                                 precip_duration=1.0, \n",
    "                                 infilt_rate=0.0,\n",
    "                                 roughness=0.01, **kwds)\n",
    "    \n",
    "    Parameters\n",
    "    ----------\n",
    "    grid : ModelGrid\n",
    "        A Landlab grid object.\n",
    "    precip_rate : float, optional (defaults to 1 mm/hr)\n",
    "        Precipitation rate, mm/hr\n",
    "    precip_duration : float, optional (defaults to 1 hour)\n",
    "        Duration of precipitation, hours\n",
    "    infilt_rate : float, optional (defaults to 0)\n",
    "        Maximum rate of infiltration, mm/hr\n",
    "    roughnes : float, defaults to 0.01\n",
    "        Manning roughness coefficient, s/m^1/3\n",
    "        \n",
    "    Examples\n",
    "    --------\n",
    "    >>> from landlab import RasterModelGrid\n",
    "    >>> rg = RasterModelGrid((4, 5), 10.0)\n",
    "    >>> kw = KinwaveOverlandFlowModel(rg)\n",
    "    >>> kw.vel_coef\n",
    "    100.0\n",
    "    >>> rg.at_node['surface_water__depth']\n",
    "    array([ 0.,  0.,  0.,  0.,  0.,  0.,  0.,  0.,  0.,  0.,  0.,  0.,  0.,\n",
    "            0.,  0.,  0.,  0.,  0.,  0.,  0.])    \n",
    "    \"\"\"\n",
    "\n",
    "    _name = 'KinwaveOverlandFlowModel'\n",
    "\n",
    "    _input_var_names = (\n",
    "        'topographic__elevation',\n",
    "    )\n",
    "\n",
    "    _output_var_names = (\n",
    "        'topographic__gradient',\n",
    "        'surface_water__depth',\n",
    "        'water__velocity',\n",
    "        'water__specific_discharge',\n",
    "    )\n",
    "\n",
    "    _var_units = {\n",
    "        'topographic__elevation' : 'm',\n",
    "        'topographic__slope' : 'm/m',\n",
    "        'surface_water__depth' : 'm',\n",
    "        'water__velocity' : 'm/s',\n",
    "        'water__specific_discharge' : 'm2/s',\n",
    "    }\n",
    "\n",
    "    _var_mapping = {\n",
    "        'topographic__elevation' : 'node',\n",
    "        'topographic__gradient' : 'link',\n",
    "        'surface_water__depth' : 'node',\n",
    "        'water__velocity' : 'link',\n",
    "        'water__specific_discharge' : 'link',\n",
    "    }\n",
    "\n",
    "    _var_doc = {\n",
    "        'topographic__elevation':\n",
    "            'elevation of the ground surface relative to some datum',\n",
    "        'topographic__gradient':\n",
    "            'gradient of the ground surface',\n",
    "        'surface_water__depth':\n",
    "            'depth of water',\n",
    "        'water__velocity':\n",
    "            'flow velocity component in the direction of the link',\n",
    "        'water__specific_discharge':\n",
    "            'flow discharge component in the direction of the link',    \n",
    "    }\n",
    "\n",
    "    def __init__(self, grid, precip_rate=1.0, precip_duration=1.0, \n",
    "                 infilt_rate=0.0, roughness=0.01, **kwds):\n",
    "        \"\"\"Initialize the KinwaveOverlandFlowModel.\n",
    "\n",
    "        Parameters\n",
    "        ----------\n",
    "        grid : ModelGrid\n",
    "            Landlab ModelGrid object\n",
    "        precip_rate : float, optional (defaults to 1 mm/hr)\n",
    "            Precipitation rate, mm/hr\n",
    "        precip_duration : float, optional (defaults to 1 hour)\n",
    "            Duration of precipitation, hours\n",
    "        infilt_rate : float, optional (defaults to 0)\n",
    "            Maximum rate of infiltration, mm/hr\n",
    "        roughnes : float, defaults to 0.01\n",
    "            Manning roughness coefficient, s/m^1/3\n",
    "        \"\"\"\n",
    "\n",
    "        # Store grid and parameters and do unit conversion\n",
    "        self._grid = grid\n",
    "        self._bc_set_code = self.grid.bc_set_code\n",
    "        self.precip = precip_rate / 3600000.0 # convert to m/s\n",
    "        self.precip_duration = precip_duration * 3600.0  # h->s\n",
    "        self.infilt = infilt_rate / 3600000.0 # convert to m/s\n",
    "        self.vel_coef = 1.0 / roughness  # do division now to save time\n",
    "\n",
    "        # Create fields...\n",
    "        #   Elevation\n",
    "        if 'topographic__elevation' in grid.at_node:\n",
    "            self.elev = grid.at_node['topographic__elevation']\n",
    "        else:\n",
    "            raise FieldError(\n",
    "                'A topography is required as a component input!')\n",
    "        #  Water depth\n",
    "        if 'surface_water__depth' in grid.at_node:\n",
    "            self.depth = grid.at_node['surface_water__depth']\n",
    "        else:\n",
    "            self.depth = grid.add_zeros('node', 'surface_water__depth')\n",
    "        #   Slope\n",
    "        if 'topographic__gradient' in grid.at_link:\n",
    "            self.slope = grid.at_link['topographic__gradient']\n",
    "        else:\n",
    "            self.slope = grid.add_zeros('link', 'topographic__gradient')\n",
    "        #  Velocity\n",
    "        if 'water__velocity' in grid.at_link:\n",
    "            self.vel = grid.at_link['water__velocity']\n",
    "        else:\n",
    "            self.vel = grid.add_zeros('link', 'water__velocity')\n",
    "        #  Discharge\n",
    "        if 'water__specific_discharge' in grid.at_link:\n",
    "            self.disch = grid.at_link['water__specific_discharge']\n",
    "        else:\n",
    "            self.disch = grid.add_zeros('link',\n",
    "                                        'water__specific_discharge')\n",
    "\n",
    "        # Calculate the ground-surface slope\n",
    "        self.slope[self._grid.active_links] = \\\n",
    "            self._grid.calc_grad_at_link(self.elev)[self._grid.active_links]\n",
    "        self.sqrt_slope = np.sqrt( self.slope )\n",
    "        self.sign_slope = np.sign( self.slope )\n",
    "\n",
    "    def updated_boundary_conditions(self):\n",
    "        \"\"\"Call if boundary conditions are updated.\n",
    "        \"\"\"\n",
    "        self.slope[self.grid.active_links] = \\\n",
    "            self.grid.calc_grad_at_link(self.elev)[self.grid.active_links]\n",
    "        self.sqrt_slope = np.sqrt(self.slope)\n",
    "        self.sign_slope = np.sign( self.slope )\n",
    "\n",
    "    def run_one_step(self, dt, current_time=0.0, **kwds):\n",
    "        \"\"\"Calculate water flow for a time period `dt`.\n",
    "        \"\"\"\n",
    "\n",
    "        if self._bc_set_code != self.grid.bc_set_code:\n",
    "            self.updated_boundary_conditions()\n",
    "            self._bc_set_code = self.grid.bc_set_code\n",
    "\n",
    "        # Calculate water depth at links\n",
    "        H_link = self._grid.map_value_at_max_node_to_link(\n",
    "                'topographic__elevation', 'surface_water__depth')\n",
    "\n",
    "        # Calculate velocity\n",
    "        self.vel = -self.sign_slope * self.vel_coef * H_link**0.66667 \\\n",
    "                    * self.sqrt_slope\n",
    "\n",
    "        # Calculate discharge\n",
    "        self.disch = H_link * self.vel\n",
    "\n",
    "        # Flux divergence\n",
    "        dqda = self._grid.calc_flux_div_at_node(self.disch)\n",
    "\n",
    "        # Rate of change of water depth\n",
    "        if current_time < self.precip_duration:\n",
    "            ppt = self.precip\n",
    "        else:\n",
    "            ppt = 0.0\n",
    "        dHdt = ppt - self.infilt - dqda\n",
    "\n",
    "        # Update water depth\n",
    "        self.depth[self._grid.core_nodes] += dHdt[self._grid.core_nodes] * dt\n",
    "\n",
    "        # Somewhat crude numerical hack: prevent negative water depth\n",
    "        self.depth[np.where(self.depth < 0.0)[0]] = 0.0"
   ]
  },
  {
   "cell_type": "code",
   "execution_count": 13,
   "metadata": {},
   "outputs": [
    {
     "name": "stdout",
     "output_type": "stream",
     "text": [
      "The discharge from node 6 to node 5 should be -0.000278 m2/s:\n",
      "-0.00027775473447\n",
      "The discharge from node 5 to node 4 should be -0.000556 m2/s:\n",
      "-0.000555461136875\n"
     ]
    }
   ],
   "source": [
    "from landlab import RasterModelGrid\n",
    "nr = 3\n",
    "nc = 4\n",
    "rg = RasterModelGrid((nr, nc), 10.0)\n",
    "rg.add_empty('node', 'topographic__elevation')\n",
    "rg.at_node['topographic__elevation'][:] = rg.node_x.copy() #np.arange(nr * nc)\n",
    "kinflow = KinwaveOverlandFlowModel(rg, precip_rate=100.0, precip_duration=100.0)\n",
    "for i in range(100):\n",
    "    kinflow.run_one_step(1.0)\n",
    "print('The discharge from node 6 to node 5 should be -0.000278 m2/s:')\n",
    "print(kinflow.disch[8])\n",
    "print('The discharge from node 5 to node 4 should be -0.000556 m2/s:')\n",
    "print(kinflow.disch[7])\n"
   ]
  },
  {
   "cell_type": "markdown",
   "metadata": {},
   "source": [
    "Next, we'll test the component on a larger grid and a larger domain."
   ]
  },
  {
   "cell_type": "code",
   "execution_count": 14,
   "metadata": {
    "collapsed": true
   },
   "outputs": [],
   "source": [
    "nr = 62\n",
    "nc = 42\n",
    "rg = RasterModelGrid(nr, nc, 10.0)\n",
    "rg.add_empty('node', 'topographic__elevation')\n",
    "rg.at_node['topographic__elevation'] = 0.01 * rg.node_y\n",
    "kinflow = KinwaveOverlandFlowModel(rg, precip_rate=100.0, precip_duration=100.0)\n",
    "for i in range(1800):\n",
    "    kinflow.run_one_step(1.0)"
   ]
  },
  {
   "cell_type": "markdown",
   "metadata": {},
   "source": [
    "Plot the topography:"
   ]
  },
  {
   "cell_type": "code",
   "execution_count": 15,
   "metadata": {},
   "outputs": [
    {
     "data": {
      "image/png": "[encoded data removed]",
      "text/plain": [
       "<matplotlib.figure.Figure at 0x11230b410>"
      ]
     },
     "metadata": {},
     "output_type": "display_data"
    }
   ],
   "source": [
    "%matplotlib inline\n",
    "from landlab.plot import imshow_grid\n",
    "imshow_grid(rg, 'topographic__elevation')"
   ]
  },
  {
   "cell_type": "markdown",
   "metadata": {},
   "source": [
    "The steady solution should be as follows. The unit discharge at the bottom edge should equal the precipitation rate, 100 mm/hr, times the slope length.\n",
    "\n",
    "The slope length is the distance from the bottom edge of the bottom-most row of cells, to the top edge of the top-most row of cells. The base row of nodes are at y = 0, and the cell edges start half a cell width up from that, so y = 5 m. The top of the upper-most row of cells is half a cell width below the top grid edge, which is 610 m, so the top of the cells is 605 m. Hence the interior (cell) portion of the grid is 600 m long.\n",
    "\n",
    "Hence, discharge out the bottom should be 100 mm/hr x 600 m = 0.1 m/hr x 600 m = 60 m2/hr. Let's convert this to m2/s:"
   ]
  },
  {
   "cell_type": "code",
   "execution_count": 16,
   "metadata": {},
   "outputs": [
    {
     "data": {
      "text/plain": [
       "0.016666666666666666"
      ]
     },
     "execution_count": 16,
     "metadata": {},
     "output_type": "execute_result"
    }
   ],
   "source": [
    "q_out = 0.1 * 600 / 3600.0\n",
    "q_out"
   ]
  },
  {
   "cell_type": "markdown",
   "metadata": {},
   "source": [
    "The water depth should be just sufficient to carry this discharge with the given slope and roughness. We get this by inverting the Manning equation:\n",
    "\n",
    "$$q = (1/n) H^{5/3} S^{1/2}$$\n",
    "\n",
    "$$H^{5/3} = n q S^{-1/2}$$\n",
    "\n",
    "$$H = (n q)^{3/5} S^{-3/10}$$\n",
    "\n",
    "The slope gradient is 0.01 (because we set elevation to be 0.01 times the y coordinate). The discharge, as we've already established, is about 0.0167 m2/s, and the roughness is 0.01 (the default value). Therefore,"
   ]
  },
  {
   "cell_type": "code",
   "execution_count": 17,
   "metadata": {},
   "outputs": [
    {
     "data": {
      "text/plain": [
       "0.021559063053142917"
      ]
     },
     "execution_count": 17,
     "metadata": {},
     "output_type": "execute_result"
    }
   ],
   "source": [
    "n = 0.01\n",
    "q = 0.0167\n",
    "S = 0.01\n",
    "H_out = (n * q)**0.6 * S**-0.3\n",
    "H_out"
   ]
  },
  {
   "cell_type": "code",
   "execution_count": 18,
   "metadata": {},
   "outputs": [
    {
     "data": {
      "image/png": "[encoded data removed]",
      "text/plain": [
       "<matplotlib.figure.Figure at 0x111e7dc10>"
      ]
     },
     "metadata": {},
     "output_type": "display_data"
    }
   ],
   "source": [
    "imshow_grid(rg, 'surface_water__depth', cmap='Blues')"
   ]
  },
  {
   "cell_type": "markdown",
   "metadata": {},
   "source": [
    "This looks pretty good. Let's check the values:"
   ]
  },
  {
   "cell_type": "code",
   "execution_count": 19,
   "metadata": {},
   "outputs": [
    {
     "data": {
      "text/plain": [
       "array([ 0.       ,  0.0215334,  0.0215334,  0.0215334,  0.0215334,\n",
       "        0.0215334,  0.0215334,  0.0215334,  0.0215334,  0.0215334,\n",
       "        0.0215334,  0.0215334,  0.0215334,  0.0215334,  0.0215334,\n",
       "        0.0215334,  0.0215334,  0.0215334,  0.0215334,  0.0215334,\n",
       "        0.0215334,  0.0215334,  0.0215334,  0.0215334,  0.0215334,\n",
       "        0.0215334,  0.0215334,  0.0215334,  0.0215334,  0.0215334,\n",
       "        0.0215334,  0.0215334,  0.0215334,  0.0215334,  0.0215334,\n",
       "        0.0215334,  0.0215334,  0.0215334,  0.0215334,  0.0215334,\n",
       "        0.0215334,  0.       ])"
      ]
     },
     "execution_count": 19,
     "metadata": {},
     "output_type": "execute_result"
    }
   ],
   "source": [
    "rg.at_node['surface_water__depth'][42:84] # bottom row of core nodes"
   ]
  },
  {
   "cell_type": "markdown",
   "metadata": {},
   "source": [
    "We see that the depth agrees with the analytical solution to within three decimal places: not bad. Ideally, we would build the above tests into the component as doctests or unit tests. We could also test the transient solutions: rising hydrograph, falling hydrograph. Finally, we haven't tested all the ingredients; for example, we haven't tested what happens when infiltration rate is greater than zero.\n",
    "\n",
    "Nonetheless, the above example illustrates the basics of component-making. A great next step would be to create a unit test based on this example."
   ]
  },
  {
   "cell_type": "markdown",
   "metadata": {},
   "source": [
    "### Click here for more <a href=\"https://github.com/landlab/landlab/wiki/Tutorials\">Landlab tutorials</a>"
   ]
  }
 ],
 "metadata": {
  "kernelspec": {
   "display_name": "Python [conda root]",
   "language": "python",
   "name": "conda-root-py"
  },
  "language_info": {
   "codemirror_mode": {
    "name": "ipython",
    "version": 3
   },
   "file_extension": ".py",
   "mimetype": "text/x-python",
   "name": "python",
   "nbconvert_exporter": "python",
   "pygments_lexer": "ipython3",
   "version": "3.5.3"
  }
 },
 "nbformat": 4,
 "nbformat_minor": 1
}
