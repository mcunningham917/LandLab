{
 "cells": [
  {
   "cell_type": "code",
   "execution_count": 341,
   "metadata": {},
   "outputs": [
    {
     "name": "stdout",
     "output_type": "stream",
     "text": [
      "Once deleted, variables cannot be recovered. Proceed (y/[n])? y\n"
     ]
    }
   ],
   "source": [
    "%reset\n",
    "import numpy as np\n",
    "from landlab import RasterModelGrid\n",
    "from landlab.components import StreamPowerEroder, FlowRouter, LinearDiffuser, PerronNLDiffuse, FastscapeEroder\n",
    "from landlab.components import ChiFinder, SteepnessFinder\n",
    "from landlab.plot import channel_profile as prf\n",
    "from landlab import imshow_grid\n",
    "from matplotlib import pyplot as plt\n",
    "from landlab.io import write_esri_ascii\n",
    "%matplotlib inline "
   ]
  },
  {
   "cell_type": "code",
   "execution_count": 342,
   "metadata": {},
   "outputs": [],
   "source": [
    "filenameHeader = \"BlockUplift_3Myr_500yrTimeStep_Onemmyr_\"\n",
    "\n",
    "rowsNum = 1000 # number of raster cells in vertical direction (y)\n",
    "colsNum = 2000 # number of raster cells in horizontal direction (x)\n",
    "dxy  = 30 # side length of a raster model cell, or resolution [m]\n",
    "\n",
    "lengthKm = (dxy * rowsNum)/1000\n",
    "widthKm = (dxy * colsNum)/1000\n",
    "\n",
    "# Below is a raster (square cells) grid, with equal width and height \n",
    "mg = RasterModelGrid((rowsNum,colsNum), dxy)\n",
    "\n",
    "# Set boundary conditions - only the south side of the grid is open.\n",
    "# Boolean parameters are sent to function in order of\n",
    "# east, north, west, south.\n",
    "mg.set_closed_boundaries_at_grid_edges(True, True, True, False)"
   ]
  },
  {
   "cell_type": "code",
   "execution_count": 343,
   "metadata": {},
   "outputs": [],
   "source": [
    "# Code Block 3\n",
    "\n",
    "np.random.seed(35) # seed set to zero so our figures are reproducible\n",
    "mg_noise = np.random.rand(mg.number_of_nodes)/1000. # intial noise on elevation grid\n",
    "\n",
    "# set up the elevation on the grid\n",
    "zr = mg.add_zeros('node', 'topographic__elevation')\n",
    "zr += mg_noise"
   ]
  },
  {
   "cell_type": "code",
   "execution_count": 344,
   "metadata": {},
   "outputs": [],
   "source": [
    "totalTime = 3E6  # time for the model to run [yr] (Original value was 5E5 yr)\n",
    "dt = 500 # time step [yr] (Original value was 5000 yr)\n",
    "initialTime = 0 # amount of time the landscape has evolved [yr]\n",
    "timeSteps = int(totalTime // dt) # number of time steps\n"
   ]
  },
  {
   "cell_type": "code",
   "execution_count": 345,
   "metadata": {},
   "outputs": [],
   "source": [
    "#Define stream power components\n",
    "\n",
    "K_sp = 1E-5 #Stream power pre-factor\n",
    "m_sp = 0.5 #Drainage area exponent\n",
    "n_sp = 1.0 #Slope exponent\n",
    "k_d = .05 #Diffusion constant\n",
    "\n",
    "frr = FlowRouter(mg,method='D8') # intializing flow routing\n",
    "spr = StreamPowerEroder(mg, K_sp=K_sp, m_sp=m_sp, n_sp=n_sp, threshold_sp=0,\n",
    "                        use_Q=None) #initializing stream power incision\n",
    "\n",
    "\n",
    "lin_diffuse = LinearDiffuser(mg, linear_diffusivity=k_d )\n",
    "#PerronNLDiffuse(mg, nonlinear_diffusivity=None, S_crit=20.*np.pi/180., rock_density=2700., sed_density=2700.)\n"
   ]
  },
  {
   "cell_type": "code",
   "execution_count": 346,
   "metadata": {},
   "outputs": [],
   "source": [
    "#  uplift_rate [m/yr] (Original value is 0.0001 m/yr)\n",
    "uplift_rate = np.ones(mg.number_of_nodes)*0.001 "
   ]
  },
  {
   "cell_type": "code",
   "execution_count": 347,
   "metadata": {},
   "outputs": [
    {
     "name": "stdout",
     "output_type": "stream",
     "text": [
      "('Completed loop ', 0, ' out of ', 6000)\n",
      "('Completed loop ', 20, ' out of ', 6000)\n"
     ]
    },
    {
     "ename": "KeyboardInterrupt",
     "evalue": "",
     "output_type": "error",
     "traceback": [
      "\u001b[0;31m---------------------------------------------------------------------------\u001b[0m",
      "\u001b[0;31mKeyboardInterrupt\u001b[0m                         Traceback (most recent call last)",
      "\u001b[0;32m<ipython-input-347-3c76bfc05425>\u001b[0m in \u001b[0;36m<module>\u001b[0;34m()\u001b[0m\n\u001b[1;32m      6\u001b[0m \u001b[0;32mfor\u001b[0m \u001b[0mi\u001b[0m \u001b[0;32min\u001b[0m \u001b[0mrange\u001b[0m\u001b[0;34m(\u001b[0m\u001b[0mtimeSteps\u001b[0m\u001b[0;34m)\u001b[0m\u001b[0;34m:\u001b[0m\u001b[0;34m\u001b[0m\u001b[0m\n\u001b[1;32m      7\u001b[0m     \u001b[0mzr\u001b[0m\u001b[0;34m[\u001b[0m\u001b[0mmg\u001b[0m\u001b[0;34m.\u001b[0m\u001b[0mcore_nodes\u001b[0m\u001b[0;34m]\u001b[0m \u001b[0;34m+=\u001b[0m \u001b[0muplift_rate\u001b[0m\u001b[0;34m[\u001b[0m\u001b[0mmg\u001b[0m\u001b[0;34m.\u001b[0m\u001b[0mcore_nodes\u001b[0m\u001b[0;34m]\u001b[0m\u001b[0;34m*\u001b[0m\u001b[0mdt\u001b[0m \u001b[0;31m# uplift the landscape\u001b[0m\u001b[0;34m\u001b[0m\u001b[0m\n\u001b[0;32m----> 8\u001b[0;31m     \u001b[0mfrr\u001b[0m\u001b[0;34m.\u001b[0m\u001b[0mrun_one_step\u001b[0m\u001b[0;34m(\u001b[0m\u001b[0;34m)\u001b[0m \u001b[0;31m# route flow\u001b[0m\u001b[0;34m\u001b[0m\u001b[0m\n\u001b[0m\u001b[1;32m      9\u001b[0m     \u001b[0mspr\u001b[0m\u001b[0;34m.\u001b[0m\u001b[0mrun_one_step\u001b[0m\u001b[0;34m(\u001b[0m\u001b[0mdt\u001b[0m\u001b[0;34m)\u001b[0m \u001b[0;31m# fluvial incision\u001b[0m\u001b[0;34m\u001b[0m\u001b[0m\n\u001b[1;32m     10\u001b[0m     \u001b[0mlin_diffuse\u001b[0m\u001b[0;34m.\u001b[0m\u001b[0mrun_one_step\u001b[0m\u001b[0;34m(\u001b[0m\u001b[0mdt\u001b[0m\u001b[0;34m)\u001b[0m\u001b[0;34m\u001b[0m\u001b[0m\n",
      "\u001b[0;32m/anaconda2/lib/python2.7/site-packages/landlab/components/flow_routing/route_flow_dn.pyc\u001b[0m in \u001b[0;36mrun_one_step\u001b[0;34m(self, **kwds)\u001b[0m\n\u001b[1;32m    449\u001b[0m                    0.,     0.,     0.,     0.])\n\u001b[1;32m    450\u001b[0m         \"\"\"\n\u001b[0;32m--> 451\u001b[0;31m         \u001b[0mself\u001b[0m\u001b[0;34m.\u001b[0m\u001b[0mroute_flow\u001b[0m\u001b[0;34m(\u001b[0m\u001b[0;34m**\u001b[0m\u001b[0mkwds\u001b[0m\u001b[0;34m)\u001b[0m\u001b[0;34m\u001b[0m\u001b[0m\n\u001b[0m\u001b[1;32m    452\u001b[0m \u001b[0;34m\u001b[0m\u001b[0m\n\u001b[1;32m    453\u001b[0m     \u001b[0;34m@\u001b[0m\u001b[0mproperty\u001b[0m\u001b[0;34m\u001b[0m\u001b[0m\n",
      "\u001b[0;32m/anaconda2/lib/python2.7/site-packages/landlab/components/flow_routing/route_flow_dn.pyc\u001b[0m in \u001b[0;36mroute_flow\u001b[0;34m(self, **kwds)\u001b[0m\n\u001b[1;32m    374\u001b[0m         a, q, s = flow_accum_bw.flow_accumulation(\n\u001b[1;32m    375\u001b[0m             \u001b[0mreceiver\u001b[0m\u001b[0;34m,\u001b[0m \u001b[0msink\u001b[0m\u001b[0;34m,\u001b[0m \u001b[0mnode_cell_area\u001b[0m\u001b[0;34m=\u001b[0m\u001b[0mnode_cell_area\u001b[0m\u001b[0;34m,\u001b[0m\u001b[0;34m\u001b[0m\u001b[0m\n\u001b[0;32m--> 376\u001b[0;31m             runoff_rate=self._grid.at_node['water__unit_flux_in'])\n\u001b[0m\u001b[1;32m    377\u001b[0m \u001b[0;34m\u001b[0m\u001b[0m\n\u001b[1;32m    378\u001b[0m         \u001b[0;31m# added DEJH March 2014:\u001b[0m\u001b[0;34m\u001b[0m\u001b[0;34m\u001b[0m\u001b[0m\n",
      "\u001b[0;32m/anaconda2/lib/python2.7/site-packages/landlab/components/flow_accum/flow_accum_bw.pyc\u001b[0m in \u001b[0;36mflow_accumulation\u001b[0;34m(receiver_nodes, baselevel_nodes, node_cell_area, runoff_rate, boundary_nodes)\u001b[0m\n\u001b[1;32m    324\u001b[0m     \"\"\"\n\u001b[1;32m    325\u001b[0m \u001b[0;34m\u001b[0m\u001b[0m\n\u001b[0;32m--> 326\u001b[0;31m     \u001b[0ms\u001b[0m \u001b[0;34m=\u001b[0m \u001b[0mmake_ordered_node_array\u001b[0m\u001b[0;34m(\u001b[0m\u001b[0mreceiver_nodes\u001b[0m\u001b[0;34m,\u001b[0m \u001b[0mbaselevel_nodes\u001b[0m\u001b[0;34m)\u001b[0m\u001b[0;34m\u001b[0m\u001b[0m\n\u001b[0m\u001b[1;32m    327\u001b[0m     \u001b[0;31m#Note that this ordering of s DOES INCLUDE closed nodes. It really shouldn't!\u001b[0m\u001b[0;34m\u001b[0m\u001b[0;34m\u001b[0m\u001b[0m\n\u001b[1;32m    328\u001b[0m     \u001b[0;31m#But as we don't have a copy of the grid accessible here, we'll solve this\u001b[0m\u001b[0;34m\u001b[0m\u001b[0;34m\u001b[0m\u001b[0m\n",
      "\u001b[0;32m/anaconda2/lib/python2.7/site-packages/landlab/components/flow_accum/flow_accum_bw.pyc\u001b[0m in \u001b[0;36mmake_ordered_node_array\u001b[0;34m(receiver_nodes, baselevel_nodes)\u001b[0m\n\u001b[1;32m    221\u001b[0m     \u001b[0madd_it\u001b[0m \u001b[0;34m=\u001b[0m \u001b[0mdstack\u001b[0m\u001b[0;34m.\u001b[0m\u001b[0madd_to_stack\u001b[0m\u001b[0;34m\u001b[0m\u001b[0m\n\u001b[1;32m    222\u001b[0m     \u001b[0;32mfor\u001b[0m \u001b[0mk\u001b[0m \u001b[0;32min\u001b[0m \u001b[0mbaselevel_nodes\u001b[0m\u001b[0;34m:\u001b[0m\u001b[0;34m\u001b[0m\u001b[0m\n\u001b[0;32m--> 223\u001b[0;31m         \u001b[0madd_it\u001b[0m\u001b[0;34m(\u001b[0m\u001b[0mk\u001b[0m\u001b[0;34m)\u001b[0m \u001b[0;31m#don't think this is a bottleneck, so no C++\u001b[0m\u001b[0;34m\u001b[0m\u001b[0m\n\u001b[0m\u001b[1;32m    224\u001b[0m     \u001b[0;32mreturn\u001b[0m \u001b[0mdstack\u001b[0m\u001b[0;34m.\u001b[0m\u001b[0ms\u001b[0m\u001b[0;34m\u001b[0m\u001b[0m\n\u001b[1;32m    225\u001b[0m \u001b[0;34m\u001b[0m\u001b[0m\n",
      "\u001b[0;32m/anaconda2/lib/python2.7/site-packages/landlab/components/flow_accum/flow_accum_bw.pyc\u001b[0m in \u001b[0;36madd_to_stack\u001b[0;34m(self, l)\u001b[0m\n\u001b[1;32m     63\u001b[0m         \"\"\"\n\u001b[1;32m     64\u001b[0m         \u001b[0;31m# we invoke cython here to attempt to suppress Python's RecursionLimit\u001b[0m\u001b[0;34m\u001b[0m\u001b[0;34m\u001b[0m\u001b[0m\n\u001b[0;32m---> 65\u001b[0;31m         \u001b[0mself\u001b[0m\u001b[0;34m.\u001b[0m\u001b[0mj\u001b[0m \u001b[0;34m=\u001b[0m \u001b[0m_add_to_stack\u001b[0m\u001b[0;34m(\u001b[0m\u001b[0ml\u001b[0m\u001b[0;34m,\u001b[0m \u001b[0mself\u001b[0m\u001b[0;34m.\u001b[0m\u001b[0mj\u001b[0m\u001b[0;34m,\u001b[0m \u001b[0mself\u001b[0m\u001b[0;34m.\u001b[0m\u001b[0ms\u001b[0m\u001b[0;34m,\u001b[0m \u001b[0mself\u001b[0m\u001b[0;34m.\u001b[0m\u001b[0mdelta\u001b[0m\u001b[0;34m,\u001b[0m \u001b[0mself\u001b[0m\u001b[0;34m.\u001b[0m\u001b[0mD\u001b[0m\u001b[0;34m)\u001b[0m\u001b[0;34m\u001b[0m\u001b[0m\n\u001b[0m\u001b[1;32m     66\u001b[0m \u001b[0;34m\u001b[0m\u001b[0m\n\u001b[1;32m     67\u001b[0m \u001b[0;34m\u001b[0m\u001b[0m\n",
      "\u001b[0;31mKeyboardInterrupt\u001b[0m: "
     ]
    }
   ],
   "source": [
    "# Code Block 7\n",
    "meanElevationArray = []\n",
    "timeArray = []\n",
    "maxElevationArray =[]\n",
    "\n",
    "for i in range(timeSteps):\n",
    "    zr[mg.core_nodes] += uplift_rate[mg.core_nodes]*dt # uplift the landscape\n",
    "    frr.run_one_step() # route flow\n",
    "    spr.run_one_step(dt) # fluvial incision\n",
    "    lin_diffuse.run_one_step(dt)\n",
    "    initialTime += dt # update time keeper\n",
    "    #print(total_time)\n",
    "    meanElevation = np.mean(zr)\n",
    "    maxElevation = np.max(zr)\n",
    "    \n",
    "    timeArray.append(i*dt)\n",
    "    meanElevationArray.append(meanElevation)\n",
    "    maxElevationArray.append(maxElevation)\n",
    "    \n",
    "    if i % 20 == 0:\n",
    "      print (\"Completed loop \", i, \" out of \", timeSteps)\n",
    "    "
   ]
  },
  {
   "cell_type": "code",
   "execution_count": null,
   "metadata": {},
   "outputs": [],
   "source": [
    "imshow_grid(mg, 'topographic__elevation', grid_units=('m', 'm'),\n",
    "                var_name='Elevation (m)')\n"
   ]
  },
  {
   "cell_type": "code",
   "execution_count": null,
   "metadata": {},
   "outputs": [],
   "source": [
    "#Plot and save mean elevation through time\n",
    "\n",
    "plt.figure(3)    \n",
    "plt.plot(timeArray, meanElevationArray)\n",
    "axes = plt.gca()\n",
    "axes.set_xlim([0,10000000])\n",
    "axes.set_ylim([0,3500])\n",
    "plt.xlabel('Time (Myr)', fontsize=18)\n",
    "plt.ylabel('Elevation (m)', fontsize=18)\n",
    "\n",
    "meanElevationFigName = filenameHeader + \"meanElevation.png\"\n",
    "plt.savefig(meanElevationFigName)"
   ]
  },
  {
   "cell_type": "code",
   "execution_count": null,
   "metadata": {},
   "outputs": [],
   "source": [
    "#Plot and save max elevation through time\n",
    "\n",
    "plt.figure(3)    \n",
    "plt.plot(timeArray, maxElevationArray)\n",
    "axes = plt.gca()\n",
    "axes.set_xlim([0,6000000])\n",
    "axes.set_ylim([0,10000])\n",
    "plt.xlabel('Time (Myr)', fontsize=18)\n",
    "plt.ylabel('Elevation (m)', fontsize=18)\n",
    "\n",
    "maxElevationFigName = filenameHeader + \"maxElevation.png\"\n",
    "plt.savefig(maxElevationFigName)"
   ]
  },
  {
   "cell_type": "code",
   "execution_count": null,
   "metadata": {},
   "outputs": [],
   "source": [
    "#Write out Ascii file of elevation field\n",
    "\n",
    "filename = filenameHeader + \"k_\" + str(K_sp) + \"_\" + \"m_\" + str(m_sp) + \"_\" + \"n_\"+ str(n_sp) + \"_\" +\\\n",
    "    \"LinDiffusion_\" + str(k_d) + \"_\" + str(widthKm) + \"x\" + str(lengthKm)+ \"km_\" + \"30mRes\" + \".txt\"\n",
    "\n",
    "write_esri_ascii(filename, mg, 'topographic__elevation')"
   ]
  },
  {
   "cell_type": "code",
   "execution_count": null,
   "metadata": {},
   "outputs": [],
   "source": [
    "#Write out text files for mean elevation, max elevation, and time\n",
    "\n",
    "meanElevavationFilename = filenameHeader + \"k_\" + str(K_sp) + \"_\" + \"m_\" + str(m_sp) + \"_\" \\\n",
    "    + \"n_\"+ str(n_sp) + \"_\" + \"LinDiffusion_\" + str(k_d) + \"_\" + str(widthKm) \\\n",
    "    + \"x\" + str(lengthKm)+ \"km_\" + \"30mRes\" + \"_meanElevation\" + \".txt\"\n",
    "\n",
    "np.savetxt(meanElevavationFilename, meanElevationArray, delimiter=\" \")\n",
    "\n",
    "\n",
    "maxElevavationFilename = filenameHeader + \"k_\" + str(K_sp) + \"_\" + \"m_\" + str(m_sp) + \"_\" \\\n",
    "    + \"n_\"+ str(n_sp) + \"_\" + \"LinDiffusion_\" + str(k_d) + \"_\" + str(widthKm) \\\n",
    "    + \"x\" + str(lengthKm)+ \"km_\" + \"30mRes\" + \"_maxElevation\" + \".txt\"\n",
    "\n",
    "np.savetxt(maxElevavationFilename, maxElevationArray, delimiter=\" \")\n",
    "\n",
    "\n",
    "timeFilename = filenameHeader + \"k_\" + str(K_sp) + \"_\" + \"m_\" + str(m_sp) + \"_\" \\\n",
    "    + \"n_\"+ str(n_sp) + \"_\" + \"LinDiffusion_\" + str(k_d) + \"_\" + str(widthKm) \\\n",
    "    + \"x\" + str(lengthKm)+ \"km_\" + \"30mRes\" + \"_timeMyr\" + \".txt\"\n",
    "\n",
    "np.savetxt(timeFilename, timeArray, delimiter=\" \")\n",
    "\n",
    "\n"
   ]
  }
 ],
 "metadata": {
  "kernelspec": {
   "display_name": "Python 2",
   "language": "python",
   "name": "python2"
  },
  "language_info": {
   "codemirror_mode": {
    "name": "ipython",
    "version": 2
   },
   "file_extension": ".py",
   "mimetype": "text/x-python",
   "name": "python",
   "nbconvert_exporter": "python",
   "pygments_lexer": "ipython2",
   "version": "2.7.14"
  }
 },
 "nbformat": 4,
 "nbformat_minor": 2
}
